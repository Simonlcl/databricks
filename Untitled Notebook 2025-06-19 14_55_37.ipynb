{
 "cells": [
  {
   "cell_type": "code",
   "execution_count": 0,
   "metadata": {
    "application/vnd.databricks.v1+cell": {
     "cellMetadata": {
      "byteLimit": 2048000,
      "rowLimit": 10000
     },
     "inputWidgets": {},
     "nuid": "8a2f0eaa-3346-42b0-ada1-8bf694bb20ad",
     "showTitle": false,
     "tableResultSettingsMap": {},
     "title": ""
    }
   },
   "outputs": [],
   "source": [
    "print(\"Hello World from Databricks\")"
   ]
  },
  {
   "cell_type": "code",
   "execution_count": 0,
   "metadata": {
    "application/vnd.databricks.v1+cell": {
     "cellMetadata": {
      "byteLimit": 2048000,
      "rowLimit": 10000
     },
     "inputWidgets": {},
     "nuid": "76837366-33ad-4d76-9f88-95abab6ee5ec",
     "showTitle": false,
     "tableResultSettingsMap": {},
     "title": ""
    }
   },
   "outputs": [],
   "source": [
    "print(\"this is my main branch\")"
   ]
  },
  {
   "cell_type": "code",
   "execution_count": 0,
   "metadata": {
    "application/vnd.databricks.v1+cell": {
     "cellMetadata": {
      "byteLimit": 2048000,
      "implicitDf": true,
      "rowLimit": 10000
     },
     "inputWidgets": {},
     "nuid": "d87f37a4-853a-4299-9ee6-db03996c1ea7",
     "showTitle": false,
     "tableResultSettingsMap": {},
     "title": ""
    }
   },
   "outputs": [],
   "source": [
    "%sql\n",
    "CREATE TABLE student (\n",
    "    student_id INT,\n",
    "    first_name STRING,\n",
    "    last_name STRING,\n",
    "    age INT,\n",
    "    gender STRING,\n",
    "    major STRING,\n",
    "    gpa DOUBLE\n",
    ");"
   ]
  },
  {
   "cell_type": "code",
   "execution_count": 0,
   "metadata": {
    "application/vnd.databricks.v1+cell": {
     "cellMetadata": {
      "byteLimit": 2048000,
      "implicitDf": true,
      "rowLimit": 10000
     },
     "inputWidgets": {},
     "nuid": "ebab8e70-1ff1-4e44-926a-076f6efe8cb4",
     "showTitle": false,
     "tableResultSettingsMap": {},
     "title": ""
    }
   },
   "outputs": [],
   "source": [
    "%sql\n",
    "INSERT INTO student VALUES\n",
    "(1, 'Alice', 'Johnson', 20, 'F', 'Computer Science', 3.8),\n",
    "(2, 'Bob', 'Smith', 21, 'M', 'Mathematics', 3.6),\n",
    "(3, 'Cathy', 'Lee', 22, 'F', 'Physics', 3.9),\n",
    "(4, 'David', 'Kim', 19, 'M', 'Biology', 3.2),\n",
    "(5, 'Eva', 'Brown', 20, 'F', 'Chemistry', 3.5),\n",
    "(6, 'Frank', 'Garcia', 23, 'M', 'Economics', 3.7),\n",
    "(7, 'Grace', 'Martinez', 21, 'F', 'Statistics', 3.4),\n",
    "(8, 'Henry', 'Davis', 20, 'M', 'Engineering', 3.3),\n",
    "(9, 'Isla', 'Miller', 22, 'F', 'Philosophy', 3.6),\n",
    "(10, 'Jack', 'Wilson', 19, 'M', 'History', 3.1);"
   ]
  }
 ],
 "metadata": {
  "application/vnd.databricks.v1+notebook": {
   "computePreferences": null,
   "dashboards": [],
   "environmentMetadata": {
    "base_environment": "",
    "environment_version": "2"
   },
   "inputWidgetPreferences": null,
   "language": "python",
   "notebookMetadata": {
    "mostRecentlyExecutedCommandWithImplicitDF": {
     "commandId": 7554500403451406,
     "dataframes": [
      "_sqldf"
     ]
    },
    "pythonIndentUnit": 4
   },
   "notebookName": "Untitled Notebook 2025-06-19 14_55_37",
   "widgets": {}
  },
  "language_info": {
   "name": "python"
  }
 },
 "nbformat": 4,
 "nbformat_minor": 0
}
